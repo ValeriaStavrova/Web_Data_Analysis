{
  "nbformat": 4,
  "nbformat_minor": 0,
  "metadata": {
    "kernelspec": {
      "display_name": "Python 3",
      "language": "python",
      "name": "python3"
    },
    "language_info": {
      "codemirror_mode": {
        "name": "ipython",
        "version": 3
      },
      "file_extension": ".py",
      "mimetype": "text/x-python",
      "name": "python",
      "nbconvert_exporter": "python",
      "pygments_lexer": "ipython3",
      "version": "3.7.4"
    },
    "colab": {
      "name": "HT 3.ipynb",
      "provenance": []
    }
  },
  "cells": [
    {
      "cell_type": "markdown",
      "metadata": {
        "id": "ObqiNJQ6i8Ae",
        "colab_type": "text"
      },
      "source": [
        "# Домашнее задание\n",
        "\n",
        "# Часть 1.\n",
        "Разберите задания в 3.1-3.4. Попробуйте сделать это также с использованием BeautifulSoup"
      ]
    },
    {
      "cell_type": "markdown",
      "metadata": {
        "id": "D8G6t9Cci8Af",
        "colab_type": "text"
      },
      "source": [
        "# 3.1\n",
        "\n",
        "В этой задаче нужно просто установить библиотеку xmltodict, скачать файл https://stepik.org/media/attachments/lesson/245571/map1.osm, создать в директории с файлом скрипт со следующим содержанием:\n",
        "и ввести в качестве ответа вывод этого скрипта."
      ]
    },
    {
      "cell_type": "code",
      "metadata": {
        "id": "M0Ibc-16i8Ag",
        "colab_type": "code",
        "outputId": "099a3657-9019-43d5-a940-ccc04229d70f",
        "colab": {}
      },
      "source": [
        "import xmltodict\n",
        "\n",
        "fin = open('map1.osm', 'r', encoding='utf8')\n",
        "xml = fin.read()\n",
        "fin.close()\n",
        "\n",
        "parsedxml = xmltodict.parse(xml)\n",
        "print(parsedxml['osm']['node'][100]['@id'])"
      ],
      "execution_count": 0,
      "outputs": [
        {
          "output_type": "stream",
          "text": [
            "296932122\n"
          ],
          "name": "stdout"
        }
      ]
    },
    {
      "cell_type": "markdown",
      "metadata": {
        "id": "utuIxwChi8Al",
        "colab_type": "text"
      },
      "source": [
        "Сделаем тоже самое с BeautifulSoup."
      ]
    },
    {
      "cell_type": "code",
      "metadata": {
        "id": "xEL64KfEi8Am",
        "colab_type": "code",
        "outputId": "fca46a95-1ea0-454a-a352-68b227d5bf5b",
        "colab": {}
      },
      "source": [
        "from bs4 import BeautifulSoup\n",
        "\n",
        "fin2 = open('map1.osm', 'r', encoding = \"utf8\")\n",
        "xml2 = fin2.read()\n",
        "fin2.close()\n",
        "\n",
        "soup = BeautifulSoup(xml2, \"xml\")\n",
        "nodes = soup.find_all(\"node\")\n",
        "print(nodes[100].get(\"id\"))"
      ],
      "execution_count": 0,
      "outputs": [
        {
          "output_type": "stream",
          "text": [
            "296932122\n"
          ],
          "name": "stdout"
        }
      ]
    },
    {
      "cell_type": "markdown",
      "metadata": {
        "id": "IHPQZTTTi8Ap",
        "colab_type": "text"
      },
      "source": [
        "# 3.2 \n",
        "\n",
        "В OpenStreetMap XML встречаются теги node, которые соответствуют некоторым точкам на карте. Ноды могут не только обозначать какой-то точечный объект, но и входить в состав way (некоторой линии, возможно замкнутой) и не иметь собственных тегов. Для доступного по ссылке https://stepik.org/media/attachments/lesson/245678/map1.osm фрагмента карты посчитайте, сколько node имеет хотя бы один вложенный тэг tag, а сколько - не имеют. В качестве ответа введите два числа, разделённых пробелом."
      ]
    },
    {
      "cell_type": "code",
      "metadata": {
        "id": "AYp76c95i8Aq",
        "colab_type": "code",
        "outputId": "319725fe-06a0-42b7-fe67-a804ec0c97c4",
        "colab": {}
      },
      "source": [
        "import requests\n",
        "res = requests.get('https://stepik.org/media/attachments/lesson/245678/map1.osm').text\n",
        "soup = BeautifulSoup(res, \"xml\")\n",
        "counter = ['t' if node.find(\"tag\") else \"f\" for node in soup.find_all('node')]\n",
        "print(counter.count(\"t\"), counter.count(\"f\"))"
      ],
      "execution_count": 0,
      "outputs": [
        {
          "output_type": "stream",
          "text": [
            "316 6166\n"
          ],
          "name": "stdout"
        }
      ]
    },
    {
      "cell_type": "markdown",
      "metadata": {
        "id": "Sfodee7Ki8Av",
        "colab_type": "text"
      },
      "source": [
        "# 3.3 \n",
        "Вася решил открыть АЗС (заправку). Чтобы оценить уровень конкуренции он хочет изучить количество заправок в интересующем его районе. Вася скачал интересующий его кусок карты OSM https://stepik.org/media/attachments/lesson/245681/map2.osm и хочет посчитать, сколько на нём отмечено точечных объектов (node), являющихся заправкой. В качестве ответа вам необходимо вывести одно число - количество АЗС.\n",
        "\n",
        "\"Как обозначается заправка в OpenStreetMap\" - пример хорошего запроса чтобы узнать, как обозначается заправка в OpenStreetMap."
      ]
    },
    {
      "cell_type": "code",
      "metadata": {
        "id": "Na9G0GFzi8Av",
        "colab_type": "code",
        "outputId": "a6619aca-21ab-4ba6-8c9d-dd25459d0129",
        "colab": {}
      },
      "source": [
        "zap = requests.get(' https://stepik.org/media/attachments/lesson/245681/map2.osm').text\n",
        "\n",
        "soup = BeautifulSoup(zap, \"xml\")\n",
        "nodes = soup.find_all('node')\n",
        "\n",
        "counter = 0\n",
        "for node in nodes:\n",
        "    tags = node.findAll('tag', attrs={'k': 'amenity', 'v': 'fuel'})\n",
        "    counter += len(tags)\n",
        "print(counter)"
      ],
      "execution_count": 0,
      "outputs": [
        {
          "output_type": "stream",
          "text": [
            "15\n"
          ],
          "name": "stdout"
        }
      ]
    },
    {
      "cell_type": "markdown",
      "metadata": {
        "id": "U6YKbAysi8Az",
        "colab_type": "text"
      },
      "source": [
        "# 3.4\n",
        "\n",
        "Вася, открывший заправку в прошлом уроке, разорился. Конкуренция оказалась слишком большой. Вася предполагает, что это произошло от того, что теги заправки могут быть не только на точке, но и на каком-то контуре. Определите, сколько заправок на самом деле (не только обозначенных точкой) есть на фрагменте карты https://stepik.org/media/attachments/lesson/245681/map2.osm"
      ]
    },
    {
      "cell_type": "code",
      "metadata": {
        "id": "2mBpYid8i8Az",
        "colab_type": "code",
        "outputId": "ecac4939-7f2d-4172-e4e7-bdbca5786c41",
        "colab": {}
      },
      "source": [
        "count = 0\n",
        "for i in soup:\n",
        "    tags = soup.findAll(\"tag\", attrs = {'k':'amenity', \"v\": \"fuel\"})\n",
        "    count += len(tags)\n",
        "print(count)"
      ],
      "execution_count": 0,
      "outputs": [
        {
          "output_type": "stream",
          "text": [
            "27\n"
          ],
          "name": "stdout"
        }
      ]
    },
    {
      "cell_type": "markdown",
      "metadata": {
        "id": "Vud9qFnqi8A2",
        "colab_type": "text"
      },
      "source": [
        "# Часть 2.\n",
        "\n",
        "Экспортируйте с OSM часть карты, на которой находитесь вы (или любую другую интересную вам). \n",
        "Посчитайте на карте объекты какого-либо типа. "
      ]
    },
    {
      "cell_type": "markdown",
      "metadata": {
        "id": "UEvRy-7Qi8A3",
        "colab_type": "text"
      },
      "source": [
        "Погуляем по моему району. https://www.openstreetmap.org/export#map=16/60.0377/30.4160"
      ]
    },
    {
      "cell_type": "code",
      "metadata": {
        "id": "SSANwHV4i8A4",
        "colab_type": "code",
        "outputId": "bf2404d5-e156-4cc1-cea8-4eb951c40184",
        "colab": {}
      },
      "source": [
        "from bs4 import BeautifulSoup\n",
        "karta = open('map district.osm', 'r', encoding = \"utf8\")\n",
        "page = karta.read()\n",
        "karta.close()\n",
        "soup = BeautifulSoup(page, \"xml\")\n",
        "parsedxml = xmltodict.parse(page)\n",
        "\n",
        "#посчитаем детские сады \n",
        "count = 0\n",
        "for i in soup:\n",
        "    tags = soup.findAll(\"tag\", attrs = {'k':'amenity', \"v\": \"kindergarten\"})\n",
        "    count += len(tags)\n",
        "print(count)\n"
      ],
      "execution_count": 0,
      "outputs": [
        {
          "output_type": "stream",
          "text": [
            "4\n"
          ],
          "name": "stdout"
        }
      ]
    },
    {
      "cell_type": "code",
      "metadata": {
        "id": "ehUmoze-i8A7",
        "colab_type": "code",
        "outputId": "127b9754-5031-4683-99eb-a0121480a104",
        "colab": {}
      },
      "source": [
        "#найдем их названия\n",
        "kindergartens = []\n",
        "for node in parsedxml['osm']['node']:\n",
        "    if 'tag' in node:\n",
        "        tags = node['tag']\n",
        "        name = 'noname'\n",
        "        flag = 0 \n",
        "        if isinstance (tags, list):\n",
        "            for tag in tags:\n",
        "                if '@k' in tag and tag['@k'] == 'amenity' and tag['@v'] == 'kindergarten':\n",
        "                    flag = 1\n",
        "                if '@k' in tag and tag['@k'] == 'name':\n",
        "                    name = tag['@v']\n",
        "                if flag:\n",
        "                    if name not in kindergartens and name != 'noname':\n",
        "                        kindergartens.append(name)\n",
        "print(kindergartens)"
      ],
      "execution_count": 0,
      "outputs": [
        {
          "output_type": "stream",
          "text": [
            "['ДРЦ Знайка']\n"
          ],
          "name": "stdout"
        }
      ]
    },
    {
      "cell_type": "code",
      "metadata": {
        "id": "6ALuhG-8i8A-",
        "colab_type": "code",
        "colab": {}
      },
      "source": [
        "Как и Вася со Степика, мы очевидно что-то потеряли."
      ],
      "execution_count": 0,
      "outputs": []
    },
    {
      "cell_type": "code",
      "metadata": {
        "id": "5KnUB8J4i8BB",
        "colab_type": "code",
        "colab": {}
      },
      "source": [
        "for way in parsedxml['osm']['way']:\n",
        "    if 'tag' in way:\n",
        "        tags = way['tag']\n",
        "        name = 'noname'\n",
        "        flag = 0 \n",
        "        if isinstance (tags, list):\n",
        "            for tag in tags:\n",
        "                if '@k' in tag and tag['@k'] == 'amenity' and tag['@v'] == 'kindergarten':\n",
        "                    flag = 1\n",
        "                if '@k' in tag and tag['@k'] == 'name':\n",
        "                    name = tag['@v']\n",
        "                if flag:\n",
        "                    if name not in kindergartens and name != 'noname':\n",
        "                        kindergartens.append(name)"
      ],
      "execution_count": 0,
      "outputs": []
    },
    {
      "cell_type": "code",
      "metadata": {
        "id": "ClK49g0yi8BF",
        "colab_type": "code",
        "outputId": "7a78203f-52a2-45cb-e591-547fc7b575cb",
        "colab": {}
      },
      "source": [
        "#вот теперь порядок\n",
        "\n",
        "print(f'На данном районе карты было найдено {len(kindergartens)} детских сада. Их список: {kindergartens}.')"
      ],
      "execution_count": 0,
      "outputs": [
        {
          "output_type": "stream",
          "text": [
            "На данном районе карты было найдено 4 детских сада. Их список: ['ДРЦ Знайка', 'Детский сад №90', 'Детский сад №52 компенсирующего вида', 'Детский сад №50'].\n"
          ],
          "name": "stdout"
        }
      ]
    },
    {
      "cell_type": "markdown",
      "metadata": {
        "id": "V8Hm5jVni8BJ",
        "colab_type": "text"
      },
      "source": [
        "# Часть 3.\n",
        "\n",
        "К следующему разу также надо сделать задания:\n",
        "\n",
        "https://stepik.org/lesson/24471/step/6?unit=6780\n",
        "https://stepik.org/lesson/24471/step/7?unit=6780"
      ]
    },
    {
      "cell_type": "markdown",
      "metadata": {
        "id": "5c0b-y_fi8BJ",
        "colab_type": "text"
      },
      "source": [
        "# 1 \n",
        "\n",
        "Рассмотрим два HTML-документа A и B.\n",
        "Из A можно перейти в B за один переход, если в A есть ссылка на B, т. е. внутри A есть тег < a href=\"B\">, \n",
        "   возможно с дополнительными параметрами внутри тега.\n",
        "Из A можно перейти в B за два перехода если существует такой документ C, что из A в C можно перейти за один переход и из C в B можно перейти за один переход.\n",
        "\n",
        "Вашей программе на вход подаются две строки, содержащие url двух документов A и B.\n",
        "Выведите Yes, если из A в B можно перейти за два перехода, иначе выведите No.\n",
        "\n",
        "Обратите внимание на то, что не все ссылки внутри HTML документа могут вести на существующие HTML документы."
      ]
    },
    {
      "cell_type": "code",
      "metadata": {
        "id": "mLpmOzRii8BK",
        "colab_type": "code",
        "outputId": "25645bd6-0a3a-4fae-a589-00e94e5644d7",
        "colab": {}
      },
      "source": [
        "#используем сэмплы\n",
        "#https://stepic.org/media/attachments/lesson/24472/sample0.html\n",
        "#https://stepic.org/media/attachments/lesson/24472/sample2.html\n",
        "\n",
        "\n",
        "import requests \n",
        "import re\n",
        "\n",
        "a = input().strip()\n",
        "b = input().strip()\n",
        "result = \"No\"\n",
        "\n",
        "def get_url(url):\n",
        "    return re.findall(r'<a href=\"(.+)\">', requests.get(url).text)\n",
        "\n",
        "for url in get_url(a):\n",
        "    if b in get_url(url):\n",
        "        result = \"Yes\"\n",
        "\n",
        "print(result)"
      ],
      "execution_count": 0,
      "outputs": [
        {
          "output_type": "stream",
          "text": [
            "https://stepic.org/media/attachments/lesson/24472/sample0.html\n",
            "https://stepic.org/media/attachments/lesson/24472/sample2.html\n",
            "Yes\n"
          ],
          "name": "stdout"
        }
      ]
    },
    {
      "cell_type": "markdown",
      "metadata": {
        "id": "F12FPX2Zi8BP",
        "colab_type": "text"
      },
      "source": [
        "# 2\n",
        "\n",
        "Вашей программе на вход подается ссылка на HTML файл.\n",
        "Вам необходимо скачать этот файл, затем найти в нем все ссылки вида < a ... href=\"...\" ... > и вывести список сайтов, на которые есть ссылка.\n",
        "\n",
        "Сайтом в данной задаче будем называть имя домена вместе с именами поддоменов. То есть, это последовательность символов, которая следует сразу после символов протокола, если он есть, до символов порта или пути, если они есть, за исключением случаев с относительными ссылками вида < a href=\"../some_path/index.html\">.\n",
        "\n",
        "Сайты следует выводить в алфавитном порядке."
      ]
    },
    {
      "cell_type": "code",
      "metadata": {
        "id": "WpX8VdRii8BP",
        "colab_type": "code",
        "outputId": "a28b8fd4-e272-42e5-a8c5-cd2ec69a4e81",
        "colab": {}
      },
      "source": [
        "#возьмем сайт из комментариев \n",
        "#http://pastebin.com/raw/7543p0ns\n",
        "\n",
        "from urllib.parse import urlparse\n",
        "import requests\n",
        "from lxml import html\n",
        "\n",
        "site = input().strip()\n",
        "webpage = requests.get(site)\n",
        "tree = html.fromstring(webpage.text)\n",
        "tags = set()\n",
        "links = tree.xpath('//a')\n",
        "for link in links:\n",
        "    url = urlparse(link.get('href'))\n",
        "    if url.hostname is not None:\n",
        "        tags.add(url.hostname)\n",
        "tags = list(tags)\n",
        "tags.sort()\n",
        "for i in tags:\n",
        "    print(i)"
      ],
      "execution_count": 0,
      "outputs": [
        {
          "output_type": "stream",
          "text": [
            " http://pastebin.com/raw/7543p0ns\n",
            "adworker.ru\n",
            "banner.rbc.ru\n",
            "biztorg.ru\n",
            "blogi.rbc.ru\n",
            "cnews.ru\n",
            "consensus.rbc.ru\n",
            "conv.rbc.ru\n",
            "credit.rbc.ru\n",
            "data.rbc.ru\n",
            "dict.rbc.ru\n",
            "drinktime.ru\n",
            "events.cnews.ru\n",
            "export.rbc.ru\n",
            "finolymp.ru\n",
            "gift.cnews.ru\n",
            "graph.rbc.ru\n",
            "magazine.rbc.ru\n",
            "map.rbc.ru\n",
            "marketing.rbc.ru\n",
            "memori.ru\n",
            "otc-pif.rbc.ru\n",
            "otc-stock.rbc.ru\n",
            "pda.rbc.ru\n",
            "pogoda.rbc.ru\n",
            "portfolio.rbc.ru\n",
            "quote-otc.rbc.ru\n",
            "quote.ru\n",
            "raiting.rbc.ru\n",
            "rating.rbc.ru\n",
            "realty.rbc.ru\n",
            "redir.rbc.ru\n",
            "rss.rbc.ru\n",
            "seminar.rbc.ru\n",
            "spb.rbc.ru\n",
            "sport.rbc.ru\n",
            "static.feed.rbc.ru\n",
            "stock.rbc.ru\n",
            "style.rbc.ru\n",
            "ta.rbc.ru\n",
            "tata.ru\n",
            "top.rbc.ru\n",
            "top100.rambler.ru\n",
            "turbo.ru\n",
            "tv.rbc.ru\n",
            "ug.rbc.ru\n",
            "ulov-umov.ru\n",
            "videoarchive.rbc.ru\n",
            "www.5ballov.ru\n",
            "www.armd.ru\n",
            "www.autonews.ru\n",
            "www.biztorg.ru\n",
            "www.cnews.ru\n",
            "www.conf.rbc.ru\n",
            "www.event.rbc.ru\n",
            "www.iglobe.ru\n",
            "www.informer.ru\n",
            "www.ivd.ru\n",
            "www.liveinternet.ru\n",
            "www.m-2.ru\n",
            "www.nashidengi.ru\n",
            "www.pochta.ru\n",
            "www.quote.ru\n",
            "www.quoterate.ru\n",
            "www.quotetotal.ru\n",
            "www.rbc.ru\n",
            "www.rbc.ua\n",
            "www.rbcdaily.ru\n",
            "www.rbcinfosystems.com\n",
            "www.rbcnews.com\n",
            "www.rbctv.ru\n",
            "www.refunder.ru\n",
            "www.salon.ru\n",
            "www.seminar.rbc.ru\n",
            "www.top.rbc.ru\n",
            "www.turbo.ru\n",
            "www.turist.ru\n",
            "www.utro.ru\n",
            "www.worldclass.ru\n",
            "zoom.cnews.ru\n"
          ],
          "name": "stdout"
        }
      ]
    }
  ]
}
