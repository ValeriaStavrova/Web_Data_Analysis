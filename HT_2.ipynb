{
  "nbformat": 4,
  "nbformat_minor": 0,
  "metadata": {
    "kernelspec": {
      "display_name": "Python 3",
      "language": "python",
      "name": "python3"
    },
    "language_info": {
      "codemirror_mode": {
        "name": "ipython",
        "version": 3
      },
      "file_extension": ".py",
      "mimetype": "text/x-python",
      "name": "python",
      "nbconvert_exporter": "python",
      "pygments_lexer": "ipython3",
      "version": "3.7.4"
    },
    "colab": {
      "name": "HT 2.ipynb",
      "provenance": []
    }
  },
  "cells": [
    {
      "cell_type": "markdown",
      "metadata": {
        "id": "z-l1XgSxLmKs",
        "colab_type": "text"
      },
      "source": [
        "# Домашнее задание. Практика\n",
        "\n",
        "Разобрать задания 2.3-2.4 со Степика. Всего там 4 задания. Желательно с применением pandas."
      ]
    },
    {
      "cell_type": "markdown",
      "metadata": {
        "id": "xkGXUMTrLmKu",
        "colab_type": "text"
      },
      "source": [
        "# 2.3 (1)\n",
        "\n",
        "Васю назначили завхозом в туристической группе и он подошёл к подготовке ответственно, составив справочник продуктов с указанием калорийности на 100 грамм, а также содержание белков, жиров и углеводов на 100 грамм продукта. Ему не удалось найти всю информацию, поэтому некоторые ячейки остались незаполненными (можно считать их значение равным нулю). Также он использовал какой-то странный офисный пакет и разделял целую и дробную часть чисел запятой. Таблица доступна по ссылке https://stepik.org/media/attachments/lesson/245290/trekking1.xlsx\n",
        "\n",
        "Вася хочет минимизировать вес продуктов и для этого брать самые калорийные продукты. Помогите ему и упорядочите продукты по убыванию калорийности. В случае, если продукты имеют одинаковую калорийность - упорядочите их по названию. В качестве ответа необходимо сдать названия продуктов, по одному в строке."
      ]
    },
    {
      "cell_type": "code",
      "metadata": {
        "id": "aYjpAuxWLmKu",
        "colab_type": "code",
        "colab": {}
      },
      "source": [
        "import pandas as pd"
      ],
      "execution_count": 0,
      "outputs": []
    },
    {
      "cell_type": "code",
      "metadata": {
        "id": "CXMo-CoCLmKz",
        "colab_type": "code",
        "outputId": "fa51b460-0c2d-4669-e3f2-bd55e3131918",
        "colab": {}
      },
      "source": [
        "df = pd.read_excel('trekking1.xlsx', names = ['Продукты','Ккал', \"Б\", \"Ж\", \"У\"]).fillna(0)\n",
        "res = df.sort_values(by = [\"Ккал\", \"Продукты\"], ascending = [False, True]).iloc[:,0].tolist()\n",
        "print('\\n'.join(res))"
      ],
      "execution_count": 0,
      "outputs": [
        {
          "output_type": "stream",
          "text": [
            "Шоколад молочный какао\n",
            "Шоколад молочный миндаль\n",
            "Сухофрукты\n",
            "Омлет с копченостями галагала\n",
            "Свинина сублимрованная\n",
            "Шоколад ремесленный\n",
            "Козинак подсолнечный\n",
            "Омлет с грибами галагала\n",
            "Козинак арахисовый\n",
            "Хлебцы льняные \"Тайские\"\n",
            "Колбаса с/к \"Еврейская полусухая\"\n",
            "Говядина сублимрованная\n",
            "Сухарики ржаные с семечками\n",
            "Хлебцы льняные Морские\n",
            "Суп говяжий с картофелем галагала\n",
            "Суп гороховый с копченостями\n",
            "Суп гороховый с копченостями галагала\n",
            "Суп куриный с картофелем галагала\n",
            "Суп-гуляш галагала\n",
            "Суп-харчо \"Острый\"\n",
            "Сыр Маасдам\n",
            "Сыр Чеддер\n",
            "Борщ Московский Галагала\n",
            "Крупа гречневая\n",
            "Рис пропаренный Увелка\n",
            "Свинина Кронидов\n",
            "Сухарики ржаные Finn Crisp\n",
            "Капеллини Макфа\n",
            "Сыр Гауда\n",
            "Кус Кус\n",
            "Каша Быстров\n",
            "Картофель сушеный\n",
            "Говядина Кронидов\n",
            "Хлебцы с чесноком и луком\n",
            "Суп томатный с рисом\n",
            "Балык \"Королевский\"\n",
            "Паутина\n"
          ],
          "name": "stdout"
        }
      ]
    },
    {
      "cell_type": "markdown",
      "metadata": {
        "id": "8Qrd_nrlLmK8",
        "colab_type": "text"
      },
      "source": [
        "# 2.3 (2)\n",
        "\n",
        "Васю назначили завхозом в туристической группе и он подошёл к подготовке ответственно, составив справочник продуктов с указанием калорийности на 100 грамм, а также содержание белков, жиров и углеводов на 100 грамм продукта. Ему не удалось найти всю информацию, поэтому некоторые ячейки остались незаполненными (можно считать их значение равным нулю). Также он использовал какой-то странный офисный пакет и разделял целую и дробную часть чисел запятой. Таблица доступна по ссылке https://stepik.org/media/attachments/lesson/245290/trekking2.xlsx \n",
        "\n",
        "Вася составил раскладку по продуктам на один день (она на листе \"Раскладка\") с указанием названия продукта и его количества в граммах. Посчитайте 4 числа: суммарную калорийность и граммы белков, жиров и углеводов. Числа округлите до целых вниз и введите через пробел."
      ]
    },
    {
      "cell_type": "code",
      "metadata": {
        "id": "oQZGh4oBLmK8",
        "colab_type": "code",
        "outputId": "aab47003-740c-4ad4-e957-c192f90d52bd",
        "colab": {}
      },
      "source": [
        "df2 = pd.read_excel('trekking2.xlsx', sheet_name = 1, names = [\"Продукты\", \"Вес\"])\n",
        "df2.Вес = df2.groupby('Продукты').Вес.transform('sum')\n",
        "raskl = df2.drop_duplicates().sort_values(by = \"Продукты\")\n",
        "print(raskl)"
      ],
      "execution_count": 0,
      "outputs": [
        {
          "output_type": "stream",
          "text": [
            "                             Продукты  Вес\n",
            "6                   Говядина Кронидов  250\n",
            "5   Колбаса с/к \"Еврейская полусухая\"  160\n",
            "7                     Крупа гречневая  160\n",
            "0            Омлет с грибами галагала   60\n",
            "3        Суп гороховый с копченостями   44\n",
            "8         Сухарики ржаные с семечками  120\n",
            "10                         Сухофрукты  150\n",
            "1                         Сыр Маасдам   80\n",
            "2              Хлебцы льняные Морские  110\n",
            "11           Шоколад молочный миндаль   80\n"
          ],
          "name": "stdout"
        }
      ]
    },
    {
      "cell_type": "code",
      "metadata": {
        "id": "-mxaFIbfLmLA",
        "colab_type": "code",
        "outputId": "b4ee4fa1-74c5-4d90-96b4-4f583df275ce",
        "colab": {}
      },
      "source": [
        "cut1 = df[df.Продукты.isin(raskl.iloc[:,0])].sort_values(by = \"Продукты\")\n",
        "print(cut1)"
      ],
      "execution_count": 0,
      "outputs": [
        {
          "output_type": "stream",
          "text": [
            "                             Продукты   Ккал     Б     Ж     У\n",
            "6                   Говядина Кронидов  213.0  15.0  17.0   0.0\n",
            "3   Колбаса с/к \"Еврейская полусухая\"  481.0  19.0  45.0   0.0\n",
            "9                     Крупа гречневая  360.0  13.0   2.0  72.0\n",
            "34           Омлет с грибами галагала  526.0  43.0  30.0   4.7\n",
            "4        Суп гороховый с копченостями  390.0  16.0  11.0  52.0\n",
            "20        Сухарики ржаные с семечками  451.0  17.3  16.0  59.5\n",
            "0                          Сухофрукты  548.0  12.8  40.8  32.4\n",
            "17                        Сыр Маасдам  370.0  25.0  30.0   0.0\n",
            "22             Хлебцы льняные Морские  436.5  14.1  29.0   1.5\n",
            "15           Шоколад молочный миндаль  574.0   7.7  38.2  49.5\n"
          ],
          "name": "stdout"
        }
      ]
    },
    {
      "cell_type": "code",
      "metadata": {
        "id": "RJtVr5VYLmLE",
        "colab_type": "code",
        "colab": {}
      },
      "source": [
        "common = cut1.merge(raskl, on='Продукты') "
      ],
      "execution_count": 0,
      "outputs": []
    },
    {
      "cell_type": "code",
      "metadata": {
        "id": "zDNvaJ0LLmLH",
        "colab_type": "code",
        "colab": {}
      },
      "source": [
        "common[\"Вес\"] = common[\"Вес\"] / 100\n",
        "common[\"ИК\"] = common[\"Ккал\"] * common[\"Вес\"]\n",
        "common[\"ИБ\"] = common[\"Б\"] * common[\"Вес\"]\n",
        "common[\"ИЖ\"] = common[\"Ж\"] * common[\"Вес\"]\n",
        "common[\"ИУ\"] = common[\"У\"] * common[\"Вес\"]"
      ],
      "execution_count": 0,
      "outputs": []
    },
    {
      "cell_type": "code",
      "metadata": {
        "id": "zGCCgu6XLmLL",
        "colab_type": "code",
        "outputId": "b9dedc9b-7d58-4217-867c-a6af36eb7947",
        "colab": {}
      },
      "source": [
        "print(common)"
      ],
      "execution_count": 0,
      "outputs": [
        {
          "output_type": "stream",
          "text": [
            "                            Продукты   Ккал     Б     Ж     У   Вес      ИК  \\\n",
            "0                  Говядина Кронидов  213.0  15.0  17.0   0.0  2.50  532.50   \n",
            "1  Колбаса с/к \"Еврейская полусухая\"  481.0  19.0  45.0   0.0  1.60  769.60   \n",
            "2                    Крупа гречневая  360.0  13.0   2.0  72.0  1.60  576.00   \n",
            "3           Омлет с грибами галагала  526.0  43.0  30.0   4.7  0.60  315.60   \n",
            "4       Суп гороховый с копченостями  390.0  16.0  11.0  52.0  0.44  171.60   \n",
            "5        Сухарики ржаные с семечками  451.0  17.3  16.0  59.5  1.20  541.20   \n",
            "6                         Сухофрукты  548.0  12.8  40.8  32.4  1.50  822.00   \n",
            "7                        Сыр Маасдам  370.0  25.0  30.0   0.0  0.80  296.00   \n",
            "8             Хлебцы льняные Морские  436.5  14.1  29.0   1.5  1.10  480.15   \n",
            "9           Шоколад молочный миндаль  574.0   7.7  38.2  49.5  0.80  459.20   \n",
            "\n",
            "      ИБ     ИЖ      ИУ  \n",
            "0  37.50  42.50    0.00  \n",
            "1  30.40  72.00    0.00  \n",
            "2  20.80   3.20  115.20  \n",
            "3  25.80  18.00    2.82  \n",
            "4   7.04   4.84   22.88  \n",
            "5  20.76  19.20   71.40  \n",
            "6  19.20  61.20   48.60  \n",
            "7  20.00  24.00    0.00  \n",
            "8  15.51  31.90    1.65  \n",
            "9   6.16  30.56   39.60  \n"
          ],
          "name": "stdout"
        }
      ]
    },
    {
      "cell_type": "code",
      "metadata": {
        "id": "d_gzSPl9LmLQ",
        "colab_type": "code",
        "outputId": "0cce956c-1c89-4dc5-8718-ae1ad1246894",
        "colab": {}
      },
      "source": [
        "f\"Суммарная калорийность равна {int(sum(common['ИК']))} ккал.\""
      ],
      "execution_count": 0,
      "outputs": [
        {
          "output_type": "execute_result",
          "data": {
            "text/plain": [
              "'Суммарная калорийность равна 4963 ккал.'"
            ]
          },
          "metadata": {
            "tags": []
          },
          "execution_count": 199
        }
      ]
    },
    {
      "cell_type": "code",
      "metadata": {
        "id": "VAuR4zv1LmLT",
        "colab_type": "code",
        "outputId": "675124c3-9a6b-48fe-f6de-4a512cbe07c1",
        "colab": {}
      },
      "source": [
        "f\"Суммарное количество белков равно {int(sum(common['ИБ']))} грамм(а/ов).\""
      ],
      "execution_count": 0,
      "outputs": [
        {
          "output_type": "execute_result",
          "data": {
            "text/plain": [
              "'Суммарное количество белков равно 203 грамм(а/ов).'"
            ]
          },
          "metadata": {
            "tags": []
          },
          "execution_count": 200
        }
      ]
    },
    {
      "cell_type": "code",
      "metadata": {
        "id": "vP8k_hekLmLW",
        "colab_type": "code",
        "outputId": "ad04a3d9-fc96-4b4b-d6eb-6fd582aa4071",
        "colab": {}
      },
      "source": [
        "f\"Суммарное количество жиров равно {int(sum(common['ИЖ']))} грамм(а/oв).\""
      ],
      "execution_count": 0,
      "outputs": [
        {
          "output_type": "execute_result",
          "data": {
            "text/plain": [
              "'Суммарное количество жиров равно 307 грамм(а/oв).'"
            ]
          },
          "metadata": {
            "tags": []
          },
          "execution_count": 201
        }
      ]
    },
    {
      "cell_type": "code",
      "metadata": {
        "id": "suRAyRNCLmLa",
        "colab_type": "code",
        "outputId": "b65032cc-f106-4820-a6f4-b903e1e027db",
        "colab": {}
      },
      "source": [
        "f\"Суммарное количество углеводов равно {int(sum(common['ИУ']))} грамм(а/ов).\""
      ],
      "execution_count": 0,
      "outputs": [
        {
          "output_type": "execute_result",
          "data": {
            "text/plain": [
              "'Суммарное количество углеводов равно 302 грамм(а/ов).'"
            ]
          },
          "metadata": {
            "tags": []
          },
          "execution_count": 202
        }
      ]
    },
    {
      "cell_type": "markdown",
      "metadata": {
        "id": "frnfDlOJLmLh",
        "colab_type": "text"
      },
      "source": [
        "# 2.3 (3)\n",
        "\n",
        "Васю назначили завхозом в туристической группе и он подошёл к подготовке ответственно, составив справочник продуктов с указанием калорийности на 100 грамм, а также содержание белков, жиров и углеводов на 100 грамм продукта. Ему не удалось найти всю информацию, поэтому некоторые ячейки остались незаполненными (можно считать их значение равным нулю). Также он использовал какой-то странный офисный пакет и разделял целую и дробную часть чисел запятой. Таблица доступна по ссылке https://stepik.org/media/attachments/lesson/245290/trekking3.xlsx\n",
        "\n",
        "Вася составил раскладку по продуктам на весь поход (она на листе \"Раскладка\") с указанием номера дня, названия продукта и его количества в граммах. Для каждого дня посчитайте 4 числа: суммарную калорийность и граммы белков, жиров и углеводов. Числа округлите до целых вниз и введите через пробел. Информация о каждом дне должна выводиться в отдельной строке."
      ]
    },
    {
      "cell_type": "code",
      "metadata": {
        "id": "8KqXwMf-LmLi",
        "colab_type": "code",
        "colab": {}
      },
      "source": [
        "df3 = pd.read_excel('trekking3.xlsx', sheet_name = 1, names = [\"День\", \"Продукты\", \"Вес\"])"
      ],
      "execution_count": 0,
      "outputs": []
    },
    {
      "cell_type": "code",
      "metadata": {
        "id": "5T_t1h1FLmLn",
        "colab_type": "code",
        "colab": {}
      },
      "source": [
        "df4 = pd.read_excel('trekking3.xlsx', sheet_name = 0, names = ['Продукты','Ккал', \"Б\", \"Ж\", \"У\"]).fillna(0)"
      ],
      "execution_count": 0,
      "outputs": []
    },
    {
      "cell_type": "code",
      "metadata": {
        "id": "2GG7H-mZLmLp",
        "colab_type": "code",
        "colab": {}
      },
      "source": [
        "res = {}\n",
        "\n",
        "def count_stat(df, df2, day):\n",
        "    dfday = df2[(df2['День'] == day)]\n",
        "    dfday.Вес = dfday.groupby('Продукты').Вес.transform('sum')\n",
        "    dday = dfday.drop_duplicates().sort_values(by = \"Продукты\")\n",
        "    cutdf = df[df.Продукты.isin(dday.iloc[:,1])].sort_values(by = \"Продукты\")\n",
        "    common = cutdf.merge(dday, on ='Продукты') \n",
        "    common[\"Вес\"] = common[\"Вес\"] / 100\n",
        "    common[\"ИК\"] = common[\"Ккал\"] * common[\"Вес\"]\n",
        "    common[\"ИБ\"] = common[\"Б\"] * common[\"Вес\"]\n",
        "    common[\"ИЖ\"] = common[\"Ж\"] * common[\"Вес\"]\n",
        "    common[\"ИУ\"] = common[\"У\"] * common[\"Вес\"]\n",
        "    res[day] = [int(sum(common['ИК'])), int(sum(common['ИБ'])), int(sum(common['ИЖ'])), int(sum(common['ИУ']))]"
      ],
      "execution_count": 0,
      "outputs": []
    },
    {
      "cell_type": "code",
      "metadata": {
        "id": "bHQXpA7GLmLs",
        "colab_type": "code",
        "outputId": "4480125e-0ac8-4600-dd89-9f12273d3774",
        "colab": {}
      },
      "source": [
        "for i in range(1, 10):\n",
        "    count_stat(df4, df3, i)\n",
        "    print(str(res.get(i)).replace(\",\", \"\"))"
      ],
      "execution_count": 0,
      "outputs": [
        {
          "output_type": "stream",
          "text": [
            "[2405 82 154 172]\n",
            "[4963 203 307 302]\n",
            "[5219 178 267 502]\n",
            "[4873 241 204 537]\n",
            "[5278 243 314 367]\n",
            "[4451 190 188 497]\n",
            "[4806 205 265 386]\n",
            "[5738 264 195 720]\n",
            "[1766 66 90 171]\n"
          ],
          "name": "stdout"
        },
        {
          "output_type": "stream",
          "text": [
            "C:\\Users\\Adm\\Anaconda3\\lib\\site-packages\\pandas\\core\\generic.py:5208: SettingWithCopyWarning: \n",
            "A value is trying to be set on a copy of a slice from a DataFrame.\n",
            "Try using .loc[row_indexer,col_indexer] = value instead\n",
            "\n",
            "See the caveats in the documentation: http://pandas.pydata.org/pandas-docs/stable/user_guide/indexing.html#returning-a-view-versus-a-copy\n",
            "  self[name] = value\n"
          ],
          "name": "stderr"
        }
      ]
    },
    {
      "cell_type": "markdown",
      "metadata": {
        "id": "Ga7IwK64LmLv",
        "colab_type": "text"
      },
      "source": [
        "# 2.4\n",
        "\n",
        "Главный бухгалтер компании \"Рога и копыта\" случайно удалил ведомость с начисленной зарплатой. К счастью, у него сохранились расчётные листки всех сотрудников. Помогите по этим расчётным листкам восстановить зарплатную ведомость. Архив с расчётными листками доступен по ссылке https://stepik.org/media/attachments/lesson/245299/rogaikopyta.zip (вы можете скачать и распаковать его вручную или самостоятельно научиться делать это с помощью скрипта на Питоне).\n",
        "\n",
        "Ведомость должна содержать 1000 строк, в каждой строке должно быть указано ФИО сотрудника и, через пробел, его зарплата. Сотрудники должны быть упорядочены по алфавиту."
      ]
    },
    {
      "cell_type": "code",
      "metadata": {
        "id": "upHzRT6ELmLv",
        "colab_type": "code",
        "colab": {}
      },
      "source": [
        "from requests import get \n",
        "\n",
        "def download(url, file_name):\n",
        "    with open(file_name, \"wb\") as file:\n",
        "        response = get(url)\n",
        "        file.write(response.content)\n",
        "        \n",
        "download('https://stepik.org/media/attachments/lesson/245299/rogaikopyta.zip', 'rogaikopyta.zip')"
      ],
      "execution_count": 0,
      "outputs": []
    },
    {
      "cell_type": "code",
      "metadata": {
        "id": "kLv1UVgMLmLz",
        "colab_type": "code",
        "colab": {}
      },
      "source": [
        "import zipfile\n",
        "with zipfile.ZipFile(\"rogaikopyta.zip\",\"r\") as zip_ref:\n",
        "    zip_ref.extractall(\"C:\\\\Users\\\\Adm\\\\rogaikopyta\")"
      ],
      "execution_count": 0,
      "outputs": []
    },
    {
      "cell_type": "code",
      "metadata": {
        "id": "SRlr1qoyLmL4",
        "colab_type": "code",
        "colab": {}
      },
      "source": [
        "import os \n",
        "files = os.listdir(\"C:\\\\Users\\\\Adm\\\\rogaikopyta\")"
      ],
      "execution_count": 0,
      "outputs": []
    },
    {
      "cell_type": "code",
      "metadata": {
        "id": "sxbacpWiLmL-",
        "colab_type": "code",
        "colab": {}
      },
      "source": [
        "i = 0\n",
        "res = {}\n",
        "for file in files:\n",
        "    df = pd.read_excel(f'C:\\\\Users\\\\Adm\\\\rogaikopyta\\\\{file}')\n",
        "    res[df.iloc[0,1]] = int(df.iloc[0, 3])\n",
        "    i += 1\n",
        "\n",
        "finalres = dict(sorted(res.items(), key=lambda t: t[0]))"
      ],
      "execution_count": 0,
      "outputs": []
    },
    {
      "cell_type": "code",
      "metadata": {
        "id": "8JkWXAb8LmMD",
        "colab_type": "code",
        "colab": {}
      },
      "source": [
        "with open('out.txt','w', encoding = 'utf-8') as f:\n",
        "    for key,val in finalres.items():\n",
        "        f.write('{} {}\\n'.format(key,val))"
      ],
      "execution_count": 0,
      "outputs": []
    },
    {
      "cell_type": "markdown",
      "metadata": {
        "id": "6QJftD2TMqP4",
        "colab_type": "text"
      },
      "source": [
        "Фотопруф"
      ]
    },
    {
      "cell_type": "markdown",
      "metadata": {
        "id": "ro5lNpdQLz6o",
        "colab_type": "text"
      },
      "source": [
        "![Фотопруф](https://i.ibb.co/8P7Pbc1/5.jpg)"
      ]
    }
  ]
}