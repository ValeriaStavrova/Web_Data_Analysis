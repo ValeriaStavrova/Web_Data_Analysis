{
 "cells": [
  {
   "cell_type": "markdown",
   "metadata": {
    "colab_type": "text",
    "id": "4F9iFyf8rsAJ"
   },
   "source": [
    "# Работа с API"
   ]
  },
  {
   "cell_type": "code",
   "execution_count": 1,
   "metadata": {
    "colab": {},
    "colab_type": "code",
    "id": "foDcllvlnjUR"
   },
   "outputs": [],
   "source": [
    "import vk"
   ]
  },
  {
   "cell_type": "code",
   "execution_count": 2,
   "metadata": {
    "colab": {},
    "colab_type": "code",
    "id": "mCu2cIRIncB-"
   },
   "outputs": [],
   "source": [
    "login = '.......' # введите свой логин, лучше номер телефона\n",
    "password = '........' # свой пароль\n",
    "vk_id = '....' # id приложения vk\n",
    "# чтобы создать приложение https://vk.com/dev - Мои приложения - Создать приложение - Standalone\n",
    "\n",
    "v = '5.103'"
   ]
  },
  {
   "cell_type": "code",
   "execution_count": 3,
   "metadata": {
    "colab": {},
    "colab_type": "code",
    "id": "R8BVtAexnfXI"
   },
   "outputs": [],
   "source": [
    "session = vk.AuthSession(app_id=vk_id, user_login=login, user_password=password) \n",
    "vkapi = vk.API(session, v=v)"
   ]
  },
  {
   "cell_type": "markdown",
   "metadata": {},
   "source": [
    "# Задание 1\n",
    "\n",
    "Получите список всех городов региона, в которых есть хотя бы одно учебное заведение и выведите их количество. Результат сохраните в формате csv.\n",
    "\n",
    "**Возьмем Мурманскую область.**"
   ]
  },
  {
   "cell_type": "code",
   "execution_count": 87,
   "metadata": {},
   "outputs": [
    {
     "name": "stdout",
     "output_type": "stream",
     "text": [
      "134\n"
     ]
    }
   ],
   "source": [
    "print(vkapi.database.getCities(country_id=1, region_id=1060316)['count'])"
   ]
  },
  {
   "cell_type": "code",
   "execution_count": 88,
   "metadata": {},
   "outputs": [],
   "source": [
    "City = vkapi.database.getCities(country_id=1, region_id=1060316, need_all = 0, count = 1000)['items']"
   ]
  },
  {
   "cell_type": "code",
   "execution_count": 89,
   "metadata": {},
   "outputs": [],
   "source": [
    "import time\n",
    "#чтобы избежать ошибку Too many requests per second немного замедлим процесс \n",
    "Uni = {}\n",
    "for i in City:\n",
    "    Uni[i['title']] = vkapi.database.getUniversities(city_id = i['id'])['count']\n",
    "    if Uni[i['title']] == 0:\n",
    "        del Uni[i['title']]\n",
    "    time.sleep(0.5)"
   ]
  },
  {
   "cell_type": "code",
   "execution_count": 8,
   "metadata": {},
   "outputs": [
    {
     "name": "stdout",
     "output_type": "stream",
     "text": [
      "{'Апатиты': 5, 'Кандалакша': 1, 'Кировск': 2, 'Ковдор': 1, 'Кола': 1, 'Мончегорск': 4, 'Мурманск': 26}\n"
     ]
    }
   ],
   "source": [
    "print(Uni)"
   ]
  },
  {
   "cell_type": "code",
   "execution_count": 90,
   "metadata": {},
   "outputs": [],
   "source": [
    "#сохраняем csv\n",
    "import csv\n",
    "with open('murmansk.csv', 'w') as f:\n",
    "    for key in Uni.keys():\n",
    "        f.write(\"%s,%s\\n\"%(key,Uni[key]))"
   ]
  },
  {
   "cell_type": "markdown",
   "metadata": {
    "colab_type": "text",
    "id": "ZV7Qp2Juren2"
   },
   "source": [
    "# Работа с друзьями"
   ]
  },
  {
   "cell_type": "markdown",
   "metadata": {
    "colab_type": "text",
    "id": "rZ4HmkziuPqA"
   },
   "source": [
    "**Задание 2.1**\n",
    "\n",
    "Построить по этим данным графики для себя и для ещё одного произвольно выбранного пользователя. Например, распределение друзей по полу, возрасту, университетам.\n"
   ]
  },
  {
   "cell_type": "markdown",
   "metadata": {},
   "source": [
    "**Произвольно выберем Антонину.**\n",
    "Начнем с распределения друзей по полу."
   ]
  },
  {
   "cell_type": "code",
   "execution_count": 91,
   "metadata": {},
   "outputs": [],
   "source": [
    "#считаем гендеры\n",
    "\n",
    "genders = vkapi.friends.get (user_id=62488495, fields='sex')['items']\n",
    "female = 0\n",
    "male = 0\n",
    "for i in genders:\n",
    "    if i['sex'] == 1:\n",
    "        female += 1\n",
    "    elif i['sex'] == 2:\n",
    "        male += 1\n",
    "        \n",
    "genders2 = vkapi.friends.get (user_id=67171, fields='sex')['items']\n",
    "female1 = 0\n",
    "male2 = 0\n",
    "for i in genders2:\n",
    "    if i['sex'] == 1:\n",
    "        female1 += 1\n",
    "    elif i['sex'] == 2:\n",
    "        male2 += 1"
   ]
  },
  {
   "cell_type": "code",
   "execution_count": 92,
   "metadata": {},
   "outputs": [
    {
     "data": {
      "image/png": "[encoded data removed]",
      "text/plain": [
       "<Figure size 432x288 with 2 Axes>"
      ]
     },
     "metadata": {},
     "output_type": "display_data"
    }
   ],
   "source": [
    "#Визуализируем\n",
    "import matplotlib.pyplot as plt\n",
    "\n",
    "labels = 'Male', 'Female'\n",
    "sizes = male, female\n",
    "sizes2 = male2, female1\n",
    "fig = plt.figure()\n",
    "\n",
    "ax1 = fig.add_axes([0, 0, .5, .5], aspect=1)\n",
    "ax1.pie(sizes, labels=labels, radius = 1.5, autopct='%1.1f%%',\n",
    "        shadow=True, startangle=95)\n",
    "ax2 = fig.add_axes([.5, .0, .5, .5], aspect=1)\n",
    "ax2.pie(sizes2, labels=labels, radius = 1.5, autopct='%1.1f%%',\n",
    "        shadow=True, startangle=90)\n",
    "plt.title(\"Гендерное распределение друзей у меня и Антонины\", bbox={'facecolor':'0.8', 'pad':5}, loc = 'right')\n",
    "plt.show()"
   ]
  },
  {
   "cell_type": "markdown",
   "metadata": {},
   "source": [
    "Далее изучим распределение друзей по возрасту."
   ]
  },
  {
   "cell_type": "code",
   "execution_count": 18,
   "metadata": {},
   "outputs": [],
   "source": [
    "#получаем даты рождения\n",
    "#у многих, однако, она не указана, либо есть только месяц-день\n",
    "#но используем, что есть\n",
    "ages = vkapi.friends.get (user_id=62488495, fields='bdate')['items']\n",
    "bs = []\n",
    "for i in ages:\n",
    "    if 'bdate' in i and len(i['bdate']) >= 8:\n",
    "        bs.append(i['bdate'])\n",
    "ages2 = vkapi.friends.get (user_id=67171, fields='bdate')['items']\n",
    "bs2 = []\n",
    "for i in ages2:\n",
    "    if 'bdate' in i and len(i['bdate']) >= 8:\n",
    "        bs2.append(i['bdate'])"
   ]
  },
  {
   "cell_type": "code",
   "execution_count": 19,
   "metadata": {},
   "outputs": [],
   "source": [
    "#считаем возраст\n",
    "\n",
    "from datetime import date, timedelta\n",
    "from datetime import datetime\n",
    "a = []\n",
    "for i in bs:\n",
    "    data = datetime.strptime(i.replace('.', '/'),'%d/%m/%Y').date()\n",
    "    age = (date.today() - data) // timedelta(days=365.2425)\n",
    "    a.append(age)\n",
    "a.sort()\n",
    "    \n",
    "a2 = []\n",
    "for i in bs2:\n",
    "    data = datetime.strptime(i.replace('.', '/'),'%d/%m/%Y').date()\n",
    "    age = (date.today() - data) // timedelta(days=365.2425)\n",
    "    a2.append(age)\n",
    "a2.sort()"
   ]
  },
  {
   "cell_type": "code",
   "execution_count": 20,
   "metadata": {},
   "outputs": [
    {
     "name": "stdout",
     "output_type": "stream",
     "text": [
      "{20: 2, 22: 3, 23: 2, 24: 5, 25: 11, 26: 4, 27: 5, 28: 2, 29: 2, 30: 3, 31: 2, 33: 3, 35: 1, 36: 1, 39: 1, 40: 2, 42: 1, 48: 1, 53: 2, 56: 1, 71: 1}\n",
      "{18: 1, 19: 3, 21: 1, 22: 4, 23: 2, 24: 1, 25: 7, 26: 4, 27: 4, 28: 4, 29: 18, 30: 36, 31: 9, 32: 17, 33: 5, 34: 3, 35: 1, 39: 1, 41: 1, 44: 1, 48: 1, 67: 1, 82: 1, 114: 1}\n"
     ]
    }
   ],
   "source": [
    "#считаем частнотность\n",
    "y = {}\n",
    "for i in a:\n",
    "    if i not in y:\n",
    "        y[i] = a.count(i)\n",
    "        \n",
    "y1 = {}\n",
    "for i in a2:\n",
    "    if i not in y1:\n",
    "        y1[i] = a2.count(i)\n",
    "        \n",
    "print(y)\n",
    "print(y1)"
   ]
  },
  {
   "cell_type": "code",
   "execution_count": 70,
   "metadata": {},
   "outputs": [
    {
     "data": {
      "image/png": "[encoded data removed]",
      "text/plain": [
       "<Figure size 432x288 with 1 Axes>"
      ]
     },
     "metadata": {
      "needs_background": "light"
     },
     "output_type": "display_data"
    },
    {
     "data": {
      "image/png": "[encoded data removed]",
      "text/plain": [
       "<Figure size 432x288 with 1 Axes>"
      ]
     },
     "metadata": {
      "needs_background": "light"
     },
     "output_type": "display_data"
    }
   ],
   "source": [
    "#визуализируем\n",
    "import numpy as np\n",
    "year = ('До 21', '21-30', '31-40', '41-50', '51-60', '61+')\n",
    "y_pos = np.arange(len(year))\n",
    "age = [2, 38, 9, 2, 3, 1]\n",
    "\n",
    "plt.bar(y_pos, age, align='center', alpha=0.5)\n",
    "plt.xticks(y_pos, year)\n",
    "plt.ylabel('Количество друзей')\n",
    "plt.title('Возраст моих друзей')\n",
    "\n",
    "plt.show()\n",
    "\n",
    "\n",
    "year1 = ('До 21', '21-30', '31-40', '41-50', '51-60', '61+')\n",
    "y_pos = np.arange(len(year))\n",
    "age1 = [4, 81, 36, 3, 0, 3]\n",
    "\n",
    "plt.bar(y_pos, age1, align='center', alpha=0.5)\n",
    "plt.xticks(y_pos, year1)\n",
    "plt.ylabel('Количество друзей')\n",
    "plt.title('Возраст друзей Антонины')\n",
    "\n",
    "plt.show()"
   ]
  },
  {
   "cell_type": "markdown",
   "metadata": {},
   "source": [
    "Осталось узнать про университеты."
   ]
  },
  {
   "cell_type": "code",
   "execution_count": 5,
   "metadata": {},
   "outputs": [],
   "source": [
    "#считаем частотность\n",
    "#убираем те университеты, где учился только 1 человек для чистоты визуализации\n",
    "\n",
    "#мои_друзья\n",
    "Fr = vkapi.friends.get (user_id=62488495, fields='universities')['items']\n",
    "myunis = []\n",
    "for i in Fr:\n",
    "    if 'universities' in i:\n",
    "        for j in i['universities']:\n",
    "            a = j['name']\n",
    "            myunis.append(a)\n",
    "unisfreq = {}\n",
    "for i in myunis:\n",
    "    if i not in unisfreq:\n",
    "        a = myunis.count(i)\n",
    "        if a > 1:\n",
    "            unisfreq[i] = a\n",
    "\n",
    "uni = list(unisfreq.items())\n",
    "uni.sort(key=lambda i: i[1], reverse=True)\n",
    "y = []\n",
    "x = []\n",
    "for i in uni:\n",
    "    y.append(i[0].strip(\"\\r\\n\"))\n",
    "    x.append(i[1])\n",
    "    \n",
    "#аналогично для Антонины \n",
    "Fr2 = vkapi.friends.get (user_id=67171, fields='universities')['items']\n",
    "myunis2 = []\n",
    "for i in Fr2:\n",
    "    if 'universities' in i:\n",
    "        for j in i['universities']:\n",
    "            a = j['name']\n",
    "            myunis2.append(a)\n",
    "unisfreq2 = {}\n",
    "for i in myunis2:\n",
    "    if i not in unisfreq2:\n",
    "        a = myunis2.count(i)\n",
    "        if a > 1:\n",
    "            unisfreq2[i] = a\n",
    "\n",
    "uni2 = list(unisfreq2.items())\n",
    "uni2.sort(key=lambda i: i[1], reverse=True)\n",
    "y2 = []\n",
    "x2 = []\n",
    "for i in uni2:\n",
    "    y2.append(i[0].strip(\"\\r\\n\"))\n",
    "    x2.append(i[1])"
   ]
  },
  {
   "cell_type": "code",
   "execution_count": 6,
   "metadata": {},
   "outputs": [
    {
     "data": {
      "image/png": "[encoded data removed]",
      "text/plain": [
       "<Figure size 360x360 with 1 Axes>"
      ]
     },
     "metadata": {
      "needs_background": "light"
     },
     "output_type": "display_data"
    },
    {
     "data": {
      "image/png": "[encoded data removed]",
      "text/plain": [
       "<Figure size 360x360 with 1 Axes>"
      ]
     },
     "metadata": {
      "needs_background": "light"
     },
     "output_type": "display_data"
    }
   ],
   "source": [
    "#визуализируем\n",
    "\n",
    "import numpy as np\n",
    "import matplotlib.pyplot as plt\n",
    "\n",
    "plt.figure(figsize=(5,5))\n",
    "ax = plt.subplot()\n",
    "height = x\n",
    "bars = y\n",
    "y_pos = np.arange(len(bars))\n",
    "plt.barh(y_pos, height)\n",
    "plt.yticks(y_pos, bars)\n",
    "ax.set_xlabel('Количество моих друзей', size = 14)\n",
    "plt.show()\n",
    "\n",
    "plt.figure(figsize=(5,5))\n",
    "ax = plt.subplot()\n",
    "height = x2\n",
    "bars = y2\n",
    "y_pos = np.arange(len(bars))\n",
    "plt.barh(y_pos, height)\n",
    "plt.yticks(y_pos, bars)\n",
    "ax.set_xlabel('Количество друзей Антонины', size = 14)\n",
    "plt.show()"
   ]
  },
  {
   "cell_type": "markdown",
   "metadata": {},
   "source": [
    "**Задание 2.2**\n",
    "\n",
    "Посчитаем fr-индекс: fr - количество друзей, у которых есть не менее fr - общих друзей"
   ]
  },
  {
   "cell_type": "code",
   "execution_count": 5,
   "metadata": {},
   "outputs": [],
   "source": [
    "import requests\n",
    "friends = vkapi.friends.get (user_id=62488495)['items']\n",
    "mutfriends = []\n",
    "\n",
    "def vkam (method, parameters, token):\n",
    "    return requests.get('https://api.vk.com/method/%s?%s&access_token=%s' % (method, '&'.join(parameters), token)).json()"
   ]
  },
  {
   "cell_type": "code",
   "execution_count": 22,
   "metadata": {},
   "outputs": [],
   "source": [
    "#Access denied: user deactivated\n",
    "#убираем мертвые странички, которые выдают ошибку выше\n",
    "#готовый список друзей\n",
    "friends = [820813, 1160726, 1782918, 1935631, 2679915, 3068870, 3923297, 4664466, 4907443, 5305863, 5595441, 7332650, 8792511, 8802056, 8817962, 9619695, 10353088, 10364784, 10783723, 10868122, 12129208, 12351508, 15053153, 15357760, 15914326, 16063660, 16465944, 17476257, 21912216, 22233185, 22852601, 24371510, 24519586, 25364210, 27139035, 27475373, 29297396, 32798784, 33781736, 40284864, 40768972, 41585148, 41700266, 42953273, 43867939, 44518288, 45378342, 45779447, 47522289, 47540560, 47830246, 51663427, 52662984, 55228728, 55377304, 56262870, 59519757, 61396585, 62067621, 62568202, 67604806, 67778817, 68484658, 68545514, 69811667, 72849813, 73146184, 73835830, 73914729, 74092141, 75448590, 81758445, 83676087, 84089968, 86363301, 88692473, 90078511, 91231848, 93860557, 94512399, 95832895, 98970634, 103704030, 103875755, 113773552, 117830981, 126375502, 135472824, 144243053, 146935063, 151981243, 154309093, 155862445, 158463996, 158689245, 163373426, 165486321, 167339776, 169127379, 169836813, 173562841, 177389212, 178175910, 188780890, 189886891, 193390710, 194252009, 200210026, 206609909, 207101935, 214773911, 218985470, 220501682, 228746328, 253623046, 259233119, 261404802, 266460047, 273065729, 281781230, 286429213, 288060216, 296031643, 296444909, 299752446, 358813404, 381328778, 394458864, 395677951, 444925382, 445318167, 457869197, 460460134, 461027308, 479650143, 490664677, 513099862, 529042528, 530035509, 537045008, 574759814]"
   ]
  },
  {
   "cell_type": "code",
   "execution_count": 23,
   "metadata": {},
   "outputs": [],
   "source": [
    "#считаем общих друзей и составляем словарь\n",
    "import time\n",
    "for i in friends:\n",
    "    m = len(vkam('friends.getMutual', ['source_uid=%s' % 62488495, 'order=hints', 'target_uid=%s' % i, 'v=5.103'], 'e6391288274b168f19b51b2dfb7b30f078d567701b064fdf16f10d5359116548ae311ac8e6257aa233c9d')['response'])\n",
    "    mutfriends.append(m)\n",
    "    time.sleep(1)\n",
    "    \n",
    "mut = {}\n",
    "for i in mutfriends:\n",
    "    if i not in mut:\n",
    "        mut[i] = mutfriends.count(i)"
   ]
  },
  {
   "cell_type": "markdown",
   "metadata": {},
   "source": [
    "Найдем уже наконец-то индекс fr. Как и для индекса Хирша отсортируем по значениям (общим друзьям) от большего к меньшему.\n",
    "Находим ту пару значений, где число общих друзей прямо пропорционально количеству друзей, их имеющих.\n",
    "Судя по всему, это число 7. "
   ]
  },
  {
   "cell_type": "code",
   "execution_count": 25,
   "metadata": {},
   "outputs": [
    {
     "name": "stdout",
     "output_type": "stream",
     "text": [
      "1 : 24\n",
      "0 : 19\n",
      "5 : 12\n",
      "8 : 12\n",
      "3 : 12\n",
      "6 : 8\n",
      "7 : 7\n",
      "10 : 5\n",
      "2 : 5\n",
      "9 : 5\n",
      "11 : 5\n",
      "4 : 4\n",
      "12 : 4\n",
      "15 : 3\n",
      "13 : 2\n",
      "18 : 2\n",
      "20 : 2\n",
      "16 : 2\n",
      "52 : 1\n",
      "30 : 1\n",
      "24 : 1\n",
      "28 : 1\n",
      "23 : 1\n",
      "19 : 1\n",
      "27 : 1\n",
      "22 : 1\n"
     ]
    }
   ],
   "source": [
    "list_d = list(mut.items())\n",
    "list_d.sort(key=lambda i: i[1], reverse=True)\n",
    "for i in list_d:\n",
    "    print(i[0], ':', i[1])"
   ]
  },
  {
   "cell_type": "markdown",
   "metadata": {
    "colab_type": "text",
    "id": "7aexPMO7u-WE"
   },
   "source": [
    "# Работа с группами (сообществами)"
   ]
  },
  {
   "cell_type": "markdown",
   "metadata": {
    "colab_type": "text",
    "id": "OoD6zidO17Ew"
   },
   "source": [
    "**Задание 3.1**\n",
    "\n",
    "Кто больше всех лайкает сообщения на стене сообщества?\n"
   ]
  },
  {
   "cell_type": "code",
   "execution_count": 4,
   "metadata": {},
   "outputs": [
    {
     "data": {
      "text/plain": [
       "234"
      ]
     },
     "execution_count": 4,
     "metadata": {},
     "output_type": "execute_result"
    }
   ],
   "source": [
    "#Всего в паблике 234 записи, скачаем все.\n",
    "import time\n",
    "Documents = vkapi.wall.get(domain='dhcenter', count = 100)['items']\n",
    "Documents += vkapi.wall.get(domain='dhcenter', offset = 100, count = 100)['items']\n",
    "Documents += vkapi.wall.get(domain='dhcenter', offset = 100, count = 34)['items']\n",
    "len(Documents)"
   ]
  },
  {
   "cell_type": "code",
   "execution_count": 5,
   "metadata": {},
   "outputs": [],
   "source": [
    "#соберем всех кто что-то лайкал\n",
    "Likers = []\n",
    "for i in Documents:\n",
    "    like = vkapi.likes.getList(type = 'post', owner_id=-171987344, item_id=i['id'])\n",
    "    for j in like['items']:\n",
    "        Likers.append(j)\n",
    "    time.sleep(0.35)"
   ]
  },
  {
   "cell_type": "code",
   "execution_count": 6,
   "metadata": {},
   "outputs": [
    {
     "name": "stdout",
     "output_type": "stream",
     "text": [
      "Шатрова Оля 160 лайков\n",
      "Сидорова Света 127 лайков\n",
      "Пучковская Антонина 99 лайков\n",
      "Романова Виктория 97 лайков\n",
      "Михайлова Марта 66 лайков\n",
      "Руссианова Олеся 61 лайков\n",
      "Панов Дмитрий 46 лайков\n",
      "Новохацкая Есения 45 лайков\n",
      "Sizova Irina 40 лайков\n",
      "Тен Наталья 40 лайков\n"
     ]
    }
   ],
   "source": [
    "#составим топ 10 самых лайкающих пользователей и найдем их имена_фамилии\n",
    "likesmylikes = {}\n",
    "for i in Likers:\n",
    "    if i not in likesmylikes:\n",
    "        likesmylikes[i] = Likers.count(i)\n",
    "list_l = list(likesmylikes.items())\n",
    "list_l.sort(key=lambda i: i[1], reverse=True)\n",
    "top = list_l[0:10]\n",
    "\n",
    "for i in top:\n",
    "    a = vkapi.users.get(user_ids = i[0]) \n",
    "    print(a[0]['last_name'], a[0]['first_name'], i[1], \"лайков\")\n",
    "    time.sleep(0.35)"
   ]
  },
  {
   "cell_type": "markdown",
   "metadata": {},
   "source": [
    "**Задание 3.2**\n",
    "\n",
    "Какие самые популярные сообщества у членов сообщества? Для этого нужно в описании vk api найти метод для получения сообществ, на которые подписан пользователь."
   ]
  },
  {
   "cell_type": "code",
   "execution_count": 4,
   "metadata": {},
   "outputs": [],
   "source": [
    "#составим список из пользователей этого сообщества\n",
    "import time\n",
    "dhfans = vkapi.groups.getMembers(group_id = 171987344)['items']\n",
    "\n",
    "#придется убрать приватные аккаунты\n",
    "for i in dhfans:\n",
    "    if 'is_closed' in vkapi.users.get(user_ids = i, fields ='is_closed')[0] and vkapi.users.get(user_ids = i, fields ='is_closed')[0]['is_closed'] == True:\n",
    "        dhfans.remove(i)\n",
    "    time.sleep(0.7)\n",
    "    \n",
    "#не все зацепились через user.get\n",
    "#но их тоже убираем\n",
    "private = [74752526, 33726423, 15583715, 96137381, 240397, 1993078, 3106510, 3534153, 6685108, 10580094, 98946070, 110127329,  218733127, 231604402, 286692867, 364192199, 369683245, 376756015, 390073482, 396762719, 411166615, 435923958, 441756745, 458490505, 480296929, 497733879, 570780578, 581931119, 586190019]\n",
    "for i in private:\n",
    "    dhfans.remove(i)"
   ]
  },
  {
   "cell_type": "code",
   "execution_count": 47,
   "metadata": {},
   "outputs": [],
   "source": [
    "#составим список всех сообществ и посчитаем сколько подписчиков dhcentre в них состоит\n",
    "\n",
    "communities = [] \n",
    "for i in dhfans:\n",
    "    com = vkapi.groups.get(user_id = i, extended = 1)['items']\n",
    "    for j in com:\n",
    "        communities.append(j['name'])\n",
    "    time.sleep(0.5)\n",
    "    \n",
    "top_com = {}    \n",
    "for i in communities:\n",
    "    if i not in top_com:\n",
    "        top_com[i] = communities.count(i)"
   ]
  },
  {
   "cell_type": "code",
   "execution_count": 48,
   "metadata": {},
   "outputs": [
    {
     "name": "stdout",
     "output_type": "stream",
     "text": [
      "DHCenter 483 человек\n",
      "Vandrouki | Путешествия почти бесплатно (RU) 196 человек\n",
      "Arzamas 170 человек\n",
      "ПостНаука 145 человек\n",
      "Теории и практики 126 человек\n",
      "«Медуза» 126 человек\n",
      "Журнал «Нож» 125 человек\n",
      "Лентач 118 человек\n",
      "Системный Блокъ 118 человек\n",
      "«Бумага» 111 человек\n",
      "Гранты,стипендии,стажировки! Обучение за рубежом 110 человек\n",
      "ITMO.STUDENTS 108 человек\n",
      "The Village Петербург 104 человек\n",
      "KudaGo: Home | Санкт-Петербург 99 человек\n",
      "Интересные события в Санкт-Петербурге 97 человек\n"
     ]
    }
   ],
   "source": [
    "#оставим 15 самых популярных сообществ и выведем сколько в них человек из подписчиков dh\n",
    "list_top = list(top_com.items())\n",
    "list_top.sort(key=lambda i: i[1], reverse=True)\n",
    "top = list_top[0:15]\n",
    "\n",
    "for i in top:\n",
    "    print(i[0], i[1], \"человек\")\n",
    "    time.sleep(0.35)"
   ]
  },
  {
   "cell_type": "markdown",
   "metadata": {},
   "source": [
    "**Задание 3.3**\n",
    "\n",
    "Получить ядро активности 1 для сообщества и сравнить со списком подписчиков.\n",
    "\n",
    "Ядро активности 1 - это пользователи, которые совершили хотя бы одно действие.\n",
    "\n",
    "Для этого нужно научиться разбирать ответ и искать там авторов комментариев, а также пользователей, сделавших репосты."
   ]
  },
  {
   "cell_type": "code",
   "execution_count": 45,
   "metadata": {},
   "outputs": [],
   "source": [
    "#у нас уже есть список пользователей, которое лайкали хоть что-то\n",
    "#дополним его теми, кто комментировал \n",
    "Users = Likers\n",
    "for i in Documents:\n",
    "    prof = vkapi.wall.getComments(owner_id = -171987344, post_id = i['id'], extended = 1, count = 100)[\"profiles\"]\n",
    "    if len(prof) > 0:\n",
    "        for j in prof:\n",
    "            Users.append(j['id'])\n",
    "    time.sleep(0.5)"
   ]
  },
  {
   "cell_type": "markdown",
   "metadata": {},
   "source": [
    "# С репостами сложнее, от них придется отказаться.\n",
    "В методе wall.get мы видим лишь их количество, но не пользователей, а другие методы не доступны обывателю.\n"
   ]
  },
  {
   "cell_type": "code",
   "execution_count": 46,
   "metadata": {},
   "outputs": [],
   "source": [
    "#в наш список попали те юзеры, которые совершили хоть одну операцию, нам нужно ядро активности 1\n",
    "#поэтому просто убираем все повторения, чтобы получить финальный список\n",
    "\n",
    "allusers = []\n",
    "for i in Users:\n",
    "    if i not in allusers:\n",
    "        allusers.append(i)"
   ]
  },
  {
   "cell_type": "code",
   "execution_count": 93,
   "metadata": {},
   "outputs": [],
   "source": [
    "#Создадим два списка - участников сообщества, входящих в ядро активности 1, и активных мимокрокодилов\n",
    "\n",
    "members = []\n",
    "notmembers = []\n",
    "\n",
    "for i in allusers:\n",
    "    if vkapi.groups.isMember(group_id = 171987344, user_id = i) == 1:\n",
    "        members.append(i)\n",
    "    else: \n",
    "        notmembers.append(i)\n",
    "    time.sleep(0.35)"
   ]
  },
  {
   "cell_type": "code",
   "execution_count": 66,
   "metadata": {},
   "outputs": [
    {
     "data": {
      "image/png": "[encoded data removed]",
      "text/plain": [
       "<Figure size 432x288 with 1 Axes>"
      ]
     },
     "metadata": {},
     "output_type": "display_data"
    }
   ],
   "source": [
    "#визуализируем полученное распределение \n",
    "\n",
    "import matplotlib.pyplot as plt\n",
    "\n",
    "labels = 'Members', 'Not members'\n",
    "sizes = len(members), len(notmembers)\n",
    "fig = plt.figure()\n",
    "ax1 = fig.add_axes([0, 0, .5, .5], aspect=1)\n",
    "ax1.pie(sizes, labels=labels, radius = 1.5, autopct='%1.1f%%',\n",
    "        shadow=True, startangle=95)\n",
    "plt.title(\"Ядро активности 1 у DHCenter\", bbox={'facecolor':'0.8', 'pad':5}, loc = 'right')\n",
    "plt.show()"
   ]
  },
  {
   "cell_type": "markdown",
   "metadata": {},
   "source": [
    "Я ожидала, что будут активными скорее подписчики, но раз так добавим в список notmembers имена и фамилии и получим готовый список потенциальной заинтересованной в DH проектах аудитории и сохраним его в csv."
   ]
  },
  {
   "cell_type": "code",
   "execution_count": 77,
   "metadata": {},
   "outputs": [],
   "source": [
    "potential_audience = {}\n",
    "for i in notmembers:\n",
    "    if i not in potential_audience:\n",
    "        a = vkapi.users.get(user_ids = i) \n",
    "        potential_audience[i] = [a[0]['last_name'], a[0]['first_name']]\n",
    "    time.sleep(0.35)"
   ]
  },
  {
   "cell_type": "code",
   "execution_count": 78,
   "metadata": {},
   "outputs": [],
   "source": [
    "import csv\n",
    "with open('audience.csv', 'w') as f:\n",
    "    for key in potential_audience.keys():\n",
    "        f.write(\"%s,%s\\n\"%(key,potential_audience[key]))"
   ]
  }
 ],
 "metadata": {
  "colab": {
   "name": "API Vk.ipynb",
   "provenance": []
  },
  "kernelspec": {
   "display_name": "Python 3",
   "language": "python",
   "name": "python3"
  },
  "language_info": {
   "codemirror_mode": {
    "name": "ipython",
    "version": 3
   },
   "file_extension": ".py",
   "mimetype": "text/x-python",
   "name": "python",
   "nbconvert_exporter": "python",
   "pygments_lexer": "ipython3",
   "version": "3.7.4"
  }
 },
 "nbformat": 4,
 "nbformat_minor": 1
}
